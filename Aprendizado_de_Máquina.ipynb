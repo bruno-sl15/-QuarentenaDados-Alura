{
  "nbformat": 4,
  "nbformat_minor": 0,
  "metadata": {
    "colab": {
      "name": "Aprendizado de Máquina",
      "provenance": [],
      "collapsed_sections": [
        "FHbzSPZ-_mNe"
      ],
      "toc_visible": true,
      "machine_shape": "hm",
      "include_colab_link": true
    },
    "kernelspec": {
      "name": "python3",
      "display_name": "Python 3"
    },
    "accelerator": "GPU"
  },
  "cells": [
    {
      "cell_type": "markdown",
      "metadata": {
        "id": "view-in-github",
        "colab_type": "text"
      },
      "source": [
        "<a href=\"https://colab.research.google.com/github/bruno-sl15/-QuarentenaDados-Alura/blob/master/Aprendizado_de_M%C3%A1quina.ipynb\" target=\"_parent\"><img src=\"https://colab.research.google.com/assets/colab-badge.svg\" alt=\"Open In Colab\"/></a>"
      ]
    },
    {
      "cell_type": "code",
      "metadata": {
        "id": "wcATYejltivN",
        "outputId": "e55a4c56-42b6-4e73-8d73-59bf9225c71d",
        "colab": {
          "base_uri": "https://localhost:8080/",
          "height": 33
        }
      },
      "source": [
        "from google.colab import drive\n",
        "drive.mount('/content/drive')"
      ],
      "execution_count": null,
      "outputs": [
        {
          "output_type": "stream",
          "text": [
            "Drive already mounted at /content/drive; to attempt to forcibly remount, call drive.mount(\"/content/drive\", force_remount=True).\n"
          ],
          "name": "stdout"
        }
      ]
    },
    {
      "cell_type": "code",
      "metadata": {
        "id": "sEboXc8Ou4G_"
      },
      "source": [
        "import pandas as pd\n",
        "import matplotlib.pyplot as plt\n",
        "import seaborn as sns\n",
        "import numpy as np\n",
        "from sklearn import svm\n",
        "from sklearn.ensemble import RandomForestClassifier\n",
        "from sklearn.model_selection import train_test_split, RandomizedSearchCV\n",
        "from sklearn.metrics import accuracy_score, confusion_matrix, classification_report\n",
        "from sklearn.preprocessing import LabelEncoder, OneHotEncoder, MinMaxScaler\n",
        "from sklearn.utils import resample\n",
        "from scipy.stats import randint\n",
        "\n",
        "caminho = '/content/drive/My Drive/microdados_enem_2019/DADOS_TRATADOS_QUANTIL.csv'\n",
        "dados_pe = pd.read_csv(caminho)"
      ],
      "execution_count": null,
      "outputs": []
    },
    {
      "cell_type": "code",
      "metadata": {
        "id": "rCm2Srrmvaez",
        "outputId": "40f085bd-ec28-4116-890f-e4a2c3cc0ded",
        "colab": {
          "base_uri": "https://localhost:8080/",
          "height": 201
        }
      },
      "source": [
        "dados_pe.head()"
      ],
      "execution_count": null,
      "outputs": [
        {
          "output_type": "execute_result",
          "data": {
            "text/html": [
              "<div>\n",
              "<style scoped>\n",
              "    .dataframe tbody tr th:only-of-type {\n",
              "        vertical-align: middle;\n",
              "    }\n",
              "\n",
              "    .dataframe tbody tr th {\n",
              "        vertical-align: top;\n",
              "    }\n",
              "\n",
              "    .dataframe thead th {\n",
              "        text-align: right;\n",
              "    }\n",
              "</style>\n",
              "<table border=\"1\" class=\"dataframe\">\n",
              "  <thead>\n",
              "    <tr style=\"text-align: right;\">\n",
              "      <th></th>\n",
              "      <th>NO_REGIAO_RESIDENCIA</th>\n",
              "      <th>NO_REGIAO_NASCIMENTO</th>\n",
              "      <th>NU_IDADE</th>\n",
              "      <th>TP_COR_RACA</th>\n",
              "      <th>TP_ANO_CONCLUIU</th>\n",
              "      <th>Q001</th>\n",
              "      <th>Q002</th>\n",
              "      <th>Q003</th>\n",
              "      <th>Q004</th>\n",
              "      <th>Q005</th>\n",
              "      <th>Q006</th>\n",
              "      <th>TP_MEDIA</th>\n",
              "      <th>NU_MEDIA</th>\n",
              "    </tr>\n",
              "  </thead>\n",
              "  <tbody>\n",
              "    <tr>\n",
              "      <th>0</th>\n",
              "      <td>Zona da Mata</td>\n",
              "      <td>Região Metropolitana</td>\n",
              "      <td>21</td>\n",
              "      <td>0</td>\n",
              "      <td>4</td>\n",
              "      <td>E</td>\n",
              "      <td>H</td>\n",
              "      <td>F</td>\n",
              "      <td>F</td>\n",
              "      <td>6</td>\n",
              "      <td>E</td>\n",
              "      <td>A</td>\n",
              "      <td>701.82</td>\n",
              "    </tr>\n",
              "    <tr>\n",
              "      <th>1</th>\n",
              "      <td>Sertão</td>\n",
              "      <td>Sertão</td>\n",
              "      <td>23</td>\n",
              "      <td>3</td>\n",
              "      <td>5</td>\n",
              "      <td>E</td>\n",
              "      <td>C</td>\n",
              "      <td>A</td>\n",
              "      <td>A</td>\n",
              "      <td>4</td>\n",
              "      <td>B</td>\n",
              "      <td>D</td>\n",
              "      <td>437.34</td>\n",
              "    </tr>\n",
              "    <tr>\n",
              "      <th>2</th>\n",
              "      <td>Sertão</td>\n",
              "      <td>Sertão</td>\n",
              "      <td>19</td>\n",
              "      <td>2</td>\n",
              "      <td>2</td>\n",
              "      <td>E</td>\n",
              "      <td>C</td>\n",
              "      <td>B</td>\n",
              "      <td>A</td>\n",
              "      <td>6</td>\n",
              "      <td>C</td>\n",
              "      <td>A</td>\n",
              "      <td>655.60</td>\n",
              "    </tr>\n",
              "    <tr>\n",
              "      <th>3</th>\n",
              "      <td>São Francisco</td>\n",
              "      <td>Outro</td>\n",
              "      <td>25</td>\n",
              "      <td>3</td>\n",
              "      <td>6</td>\n",
              "      <td>H</td>\n",
              "      <td>B</td>\n",
              "      <td>A</td>\n",
              "      <td>A</td>\n",
              "      <td>4</td>\n",
              "      <td>B</td>\n",
              "      <td>B</td>\n",
              "      <td>526.34</td>\n",
              "    </tr>\n",
              "    <tr>\n",
              "      <th>4</th>\n",
              "      <td>Sertão</td>\n",
              "      <td>Outro</td>\n",
              "      <td>16</td>\n",
              "      <td>1</td>\n",
              "      <td>0</td>\n",
              "      <td>C</td>\n",
              "      <td>F</td>\n",
              "      <td>D</td>\n",
              "      <td>D</td>\n",
              "      <td>5</td>\n",
              "      <td>D</td>\n",
              "      <td>A</td>\n",
              "      <td>651.76</td>\n",
              "    </tr>\n",
              "  </tbody>\n",
              "</table>\n",
              "</div>"
            ],
            "text/plain": [
              "  NO_REGIAO_RESIDENCIA  NO_REGIAO_NASCIMENTO  NU_IDADE  ...  Q006  TP_MEDIA NU_MEDIA\n",
              "0         Zona da Mata  Região Metropolitana        21  ...     E         A   701.82\n",
              "1               Sertão                Sertão        23  ...     B         D   437.34\n",
              "2               Sertão                Sertão        19  ...     C         A   655.60\n",
              "3        São Francisco                 Outro        25  ...     B         B   526.34\n",
              "4               Sertão                 Outro        16  ...     D         A   651.76\n",
              "\n",
              "[5 rows x 13 columns]"
            ]
          },
          "metadata": {
            "tags": []
          },
          "execution_count": 27
        }
      ]
    },
    {
      "cell_type": "code",
      "metadata": {
        "id": "p3-C_1t2gLOo",
        "outputId": "96b36831-2884-41b8-d7eb-b8c42885286c",
        "colab": {
          "base_uri": "https://localhost:8080/",
          "height": 33
        }
      },
      "source": [
        "# Extração de amostra\n",
        "\n",
        "seed = 43278\n",
        "np.random.seed(seed)\n",
        "\n",
        "amostra = dados_pe.sample(frac = 0.05)\n",
        "amostra.shape"
      ],
      "execution_count": null,
      "outputs": [
        {
          "output_type": "execute_result",
          "data": {
            "text/plain": [
              "(10138, 13)"
            ]
          },
          "metadata": {
            "tags": []
          },
          "execution_count": 28
        }
      ]
    },
    {
      "cell_type": "markdown",
      "metadata": {
        "id": "mHgQYrI9-tAM"
      },
      "source": [
        "# Normalização e Codificação dos dados (LabelEncoder e OneHotEncoder)"
      ]
    },
    {
      "cell_type": "code",
      "metadata": {
        "id": "zNLeslbHWfEb"
      },
      "source": [
        "# separação entre classe e atributos\n",
        "y = amostra['TP_MEDIA'].values\n",
        "X = amostra.drop(['TP_MEDIA', 'NU_MEDIA'], axis=1).values"
      ],
      "execution_count": null,
      "outputs": []
    },
    {
      "cell_type": "code",
      "metadata": {
        "id": "qOb8Z8jjj108"
      },
      "source": [
        "# Aplição do Label Encoder\n",
        "le = LabelEncoder()\n",
        "X[:, 0] = le.fit_transform(X[:, 0]) # NO_REGIAO_RESIDENCIA\n",
        "X[:, 1] = le.fit_transform(X[:, 1]) # NO_REGIAO_NASCIMENTO\n",
        "X[:, 5] = le.fit_transform(X[:, 5]) # Q001\n",
        "X[:, 6] = le.fit_transform(X[:, 6]) # Q002\n",
        "X[:, 7] = le.fit_transform(X[:, 7]) # Q003\n",
        "X[:, 8] = le.fit_transform(X[:, 8]) # Q004\n",
        "X[:, 10] = le.fit_transform(X[:, 10]) # Q006"
      ],
      "execution_count": null,
      "outputs": []
    },
    {
      "cell_type": "code",
      "metadata": {
        "id": "GShEC3Kt9zmZ"
      },
      "source": [
        "# Atributos para usar o OneHotEncoder:\n",
        "# NO_REGIAO_RESIDENCIA\n",
        "# NO_REGIAO_NASCIMENTO\n",
        "# TP_COR_RACA\n",
        "# Q003\n",
        "# Q004\n",
        "ohe = X[:, np.r_[0,1,3,7,8]]"
      ],
      "execution_count": null,
      "outputs": []
    },
    {
      "cell_type": "code",
      "metadata": {
        "id": "Tpe_Jy3p91ch",
        "outputId": "9e35dafb-7c35-4410-ceb0-cb171ba7db94",
        "colab": {
          "base_uri": "https://localhost:8080/"
        }
      },
      "source": [
        "# Atributos para normalizar\n",
        "X = X[:, np.r_[2,4,5,6,9,10]]\n",
        "X.shape"
      ],
      "execution_count": null,
      "outputs": [
        {
          "output_type": "execute_result",
          "data": {
            "text/plain": [
              "(10138, 6)"
            ]
          },
          "metadata": {
            "tags": []
          },
          "execution_count": 56
        }
      ]
    },
    {
      "cell_type": "code",
      "metadata": {
        "id": "jZ4TvZ0m9_1y",
        "outputId": "24bbe872-7938-4bd8-dfaf-e1b536d3a7df",
        "colab": {
          "base_uri": "https://localhost:8080/"
        }
      },
      "source": [
        "X[0:5]"
      ],
      "execution_count": null,
      "outputs": [
        {
          "output_type": "execute_result",
          "data": {
            "text/plain": [
              "array([[42, 13, 1, 2, 5, 1],\n",
              "       [39, 13, 0, 0, 3, 2],\n",
              "       [18, 0, 4, 4, 4, 4],\n",
              "       [17, 0, 1, 5, 4, 0],\n",
              "       [18, 1, 4, 4, 4, 3]], dtype=object)"
            ]
          },
          "metadata": {
            "tags": []
          },
          "execution_count": 57
        }
      ]
    },
    {
      "cell_type": "code",
      "metadata": {
        "id": "9e_Vtn4C-EMP"
      },
      "source": [
        "# Aplicação da normalização [0, 1]\n",
        "scaler = MinMaxScaler()\n",
        "scaler.fit(X)\n",
        "X = scaler.transform(X)"
      ],
      "execution_count": null,
      "outputs": []
    },
    {
      "cell_type": "code",
      "metadata": {
        "id": "CGeOXNAS-QQU",
        "outputId": "2ea87d4d-d8bb-44f2-bef3-d5318d551237",
        "colab": {
          "base_uri": "https://localhost:8080/"
        }
      },
      "source": [
        "X[0:5]"
      ],
      "execution_count": null,
      "outputs": [
        {
          "output_type": "execute_result",
          "data": {
            "text/plain": [
              "array([[0.55172414, 1.        , 0.14285714, 0.28571429, 0.21052632,\n",
              "        0.0625    ],\n",
              "       [0.5       , 1.        , 0.        , 0.        , 0.10526316,\n",
              "        0.125     ],\n",
              "       [0.13793103, 0.        , 0.57142857, 0.57142857, 0.15789474,\n",
              "        0.25      ],\n",
              "       [0.12068966, 0.        , 0.14285714, 0.71428571, 0.15789474,\n",
              "        0.        ],\n",
              "       [0.13793103, 0.07692308, 0.57142857, 0.57142857, 0.15789474,\n",
              "        0.1875    ]])"
            ]
          },
          "metadata": {
            "tags": []
          },
          "execution_count": 59
        }
      ]
    },
    {
      "cell_type": "code",
      "metadata": {
        "id": "fz-eX8Y0-Xy-",
        "outputId": "4eea3382-c2cb-41e8-d55b-c2efc2ab5b5d",
        "colab": {
          "base_uri": "https://localhost:8080/"
        }
      },
      "source": [
        "# Aplicação do OneHotEncoder\n",
        "enc = OneHotEncoder()\n",
        "enc.fit(ohe)\n",
        "enc = enc.transform(ohe).toarray()\n",
        "enc.shape"
      ],
      "execution_count": null,
      "outputs": [
        {
          "output_type": "execute_result",
          "data": {
            "text/plain": [
              "(10138, 29)"
            ]
          },
          "metadata": {
            "tags": []
          },
          "execution_count": 60
        }
      ]
    },
    {
      "cell_type": "code",
      "metadata": {
        "id": "eW_UdUN0-b4I",
        "outputId": "724d82d8-ee73-4591-d394-9f8ce3324531",
        "colab": {
          "base_uri": "https://localhost:8080/"
        }
      },
      "source": [
        "# Concatena colunas normalizadas + colunas OHE\n",
        "X = np.concatenate((X,enc),axis=1)\n",
        "X.shape"
      ],
      "execution_count": null,
      "outputs": [
        {
          "output_type": "execute_result",
          "data": {
            "text/plain": [
              "(10138, 35)"
            ]
          },
          "metadata": {
            "tags": []
          },
          "execution_count": 61
        }
      ]
    },
    {
      "cell_type": "markdown",
      "metadata": {
        "id": "qHPsAEWU_TMk"
      },
      "source": [
        "# Preparação dos dados para o RandomizedSearchCV"
      ]
    },
    {
      "cell_type": "code",
      "metadata": {
        "id": "qcNlU-HEl9ck"
      },
      "source": [
        "# divisão entre treino/validação e teste\n",
        "X, X_test, y, y_test = train_test_split(X, y, test_size=0.10, random_state=24, stratify=y)"
      ],
      "execution_count": null,
      "outputs": []
    },
    {
      "cell_type": "code",
      "metadata": {
        "id": "zVkXTkUqU913"
      },
      "source": [
        "# insere os indexes de X\n",
        "l = []\n",
        "for i in range(len(X)):\n",
        "  l.append([i] + list(X[i]))\n",
        "X = np.array(l)"
      ],
      "execution_count": null,
      "outputs": []
    },
    {
      "cell_type": "code",
      "metadata": {
        "id": "9PW6No0uVDgh"
      },
      "source": [
        "# insere os indexes de y\n",
        "l = []\n",
        "for i in range(len(y)):\n",
        "  l.append([i, y[i]])\n",
        "y = np.array(l)"
      ],
      "execution_count": null,
      "outputs": []
    },
    {
      "cell_type": "code",
      "metadata": {
        "id": "P7v_U4BG6ctp",
        "outputId": "bfc7c556-9e5c-4aa5-f48b-cd8c5e2dc928",
        "colab": {
          "base_uri": "https://localhost:8080/"
        }
      },
      "source": [
        "X"
      ],
      "execution_count": null,
      "outputs": [
        {
          "output_type": "execute_result",
          "data": {
            "text/plain": [
              "array([[0.00000000e+00, 1.03448276e-01, 0.00000000e+00, ...,\n",
              "        0.00000000e+00, 0.00000000e+00, 0.00000000e+00],\n",
              "       [1.00000000e+00, 1.89655172e-01, 2.30769231e-01, ...,\n",
              "        1.00000000e+00, 0.00000000e+00, 0.00000000e+00],\n",
              "       [2.00000000e+00, 1.37931034e-01, 7.69230769e-02, ...,\n",
              "        0.00000000e+00, 0.00000000e+00, 0.00000000e+00],\n",
              "       ...,\n",
              "       [9.12100000e+03, 6.55172414e-01, 1.00000000e+00, ...,\n",
              "        1.00000000e+00, 0.00000000e+00, 0.00000000e+00],\n",
              "       [9.12200000e+03, 1.37931034e-01, 0.00000000e+00, ...,\n",
              "        0.00000000e+00, 0.00000000e+00, 1.00000000e+00],\n",
              "       [9.12300000e+03, 1.37931034e-01, 0.00000000e+00, ...,\n",
              "        0.00000000e+00, 0.00000000e+00, 0.00000000e+00]])"
            ]
          },
          "metadata": {
            "tags": []
          },
          "execution_count": 65
        }
      ]
    },
    {
      "cell_type": "code",
      "metadata": {
        "id": "JuEux4RkV2wz",
        "outputId": "d9776792-3f47-4d3b-ee75-38885c92b300",
        "colab": {
          "base_uri": "https://localhost:8080/"
        }
      },
      "source": [
        "y"
      ],
      "execution_count": null,
      "outputs": [
        {
          "output_type": "execute_result",
          "data": {
            "text/plain": [
              "array([['0', 'B'],\n",
              "       ['1', 'C'],\n",
              "       ['2', 'C'],\n",
              "       ...,\n",
              "       ['9121', 'C'],\n",
              "       ['9122', 'B'],\n",
              "       ['9123', 'B']], dtype='<U21')"
            ]
          },
          "metadata": {
            "tags": []
          },
          "execution_count": 66
        }
      ]
    },
    {
      "cell_type": "code",
      "metadata": {
        "id": "Gv1hnHJjXbz5"
      },
      "source": [
        "# Divisão entre treino e validação\n",
        "X_train, X_validation, y_train, y_validation = train_test_split(X, y, test_size=0.10, random_state=24)"
      ],
      "execution_count": null,
      "outputs": []
    },
    {
      "cell_type": "code",
      "metadata": {
        "id": "EUv8G2OrXxLC"
      },
      "source": [
        "def get_indexes(a):\n",
        "  indexes = []\n",
        "  for i in a:\n",
        "    indexes.append(int(i[0]))\n",
        "  return [indexes]"
      ],
      "execution_count": null,
      "outputs": []
    },
    {
      "cell_type": "code",
      "metadata": {
        "id": "upXd2YzOX1rH"
      },
      "source": [
        "train_indexes = get_indexes(X_train)\n",
        "validation_indexes = get_indexes(X_validation)\n",
        "cv_iter = zip(train_indexes, validation_indexes)"
      ],
      "execution_count": null,
      "outputs": []
    },
    {
      "cell_type": "code",
      "metadata": {
        "id": "8b1d66MsZwfF"
      },
      "source": [
        "def drop_indexes(a):\n",
        "  matrix = []\n",
        "  for i in a:\n",
        "    matrix.append(i[1:])\n",
        "  return np.array(matrix)"
      ],
      "execution_count": null,
      "outputs": []
    },
    {
      "cell_type": "code",
      "metadata": {
        "id": "7BLOfVCLZyKt"
      },
      "source": [
        "X = drop_indexes(X)\n",
        "y = drop_indexes(y)\n",
        "X_train = drop_indexes(X_train)\n",
        "y_train = drop_indexes(y_train)\n",
        "X_validation = drop_indexes(X_validation)\n",
        "y_validation = drop_indexes(y_validation)"
      ],
      "execution_count": null,
      "outputs": []
    },
    {
      "cell_type": "markdown",
      "metadata": {
        "id": "FHbzSPZ-_mNe"
      },
      "source": [
        "# Função de Hypertuning"
      ]
    },
    {
      "cell_type": "code",
      "metadata": {
        "id": "avgHBlJ4WbSp"
      },
      "source": [
        "def hypertuning(est, p_distr, nbr_iter, cv_iter, X, y):\n",
        "    rdmsearch = RandomizedSearchCV(est, param_distributions=p_distr,\n",
        "                                  n_jobs=-1, n_iter=nbr_iter, cv=cv_iter,\n",
        "                                   verbose=1000)\n",
        "    rdmsearch.fit(X,y)\n",
        "    best_params = rdmsearch.best_params_\n",
        "    best_score = rdmsearch.best_score_\n",
        "    return best_params, best_score"
      ],
      "execution_count": null,
      "outputs": []
    },
    {
      "cell_type": "markdown",
      "metadata": {
        "id": "Llj0quDH_slN"
      },
      "source": [
        "# RandomizedSearchCV - RandomForest"
      ]
    },
    {
      "cell_type": "code",
      "metadata": {
        "id": "sfyTwkUrWHuk",
        "outputId": "cc0bb550-7f77-4cd9-86f4-19d2299d44f3",
        "colab": {
          "base_uri": "https://localhost:8080/",
          "height": 116
        }
      },
      "source": [
        "# Definição da matriz de parâmetros da Random Forest\n",
        "\n",
        "rf_p_dist={'max_depth':[3,5,10,None],\n",
        "              'n_estimators':[10,100,200,300,400,500],\n",
        "              'max_features':randint(1,35),\n",
        "               'criterion':['gini','entropy'],\n",
        "               'bootstrap':[True,False],\n",
        "               'min_samples_leaf':randint(1,4),\n",
        "              }\n",
        "\n",
        "rf_p_dist"
      ],
      "execution_count": null,
      "outputs": [
        {
          "output_type": "execute_result",
          "data": {
            "text/plain": [
              "{'bootstrap': [True, False],\n",
              " 'criterion': ['gini', 'entropy'],\n",
              " 'max_depth': [3, 5, 10, None],\n",
              " 'max_features': <scipy.stats._distn_infrastructure.rv_frozen at 0x7f63c5c27780>,\n",
              " 'min_samples_leaf': <scipy.stats._distn_infrastructure.rv_frozen at 0x7f63c5c270b8>,\n",
              " 'n_estimators': [10, 100, 200, 300, 400, 500]}"
            ]
          },
          "metadata": {
            "tags": []
          },
          "execution_count": 73
        }
      ]
    },
    {
      "cell_type": "code",
      "metadata": {
        "id": "OaDG3njwZ_io"
      },
      "source": [
        "# RandomizedSearch do Random Forest\n",
        "\n",
        "est_RF = RandomForestClassifier(n_jobs=-1, random_state=24)\n",
        "best_parameters, best_score = hypertuning(est_RF, rf_p_dist, 100, cv_iter, X, y)"
      ],
      "execution_count": null,
      "outputs": []
    },
    {
      "cell_type": "code",
      "metadata": {
        "id": "u-Sucvn-eSr2",
        "outputId": "b77bd506-0ae2-4a90-d390-8250a6bf1a72",
        "colab": {
          "base_uri": "https://localhost:8080/",
          "height": 116
        }
      },
      "source": [
        "best_parameters"
      ],
      "execution_count": null,
      "outputs": [
        {
          "output_type": "execute_result",
          "data": {
            "text/plain": [
              "{'bootstrap': True,\n",
              " 'criterion': 'gini',\n",
              " 'max_depth': 10,\n",
              " 'max_features': 26,\n",
              " 'min_samples_leaf': 3,\n",
              " 'n_estimators': 300}"
            ]
          },
          "metadata": {
            "tags": []
          },
          "execution_count": 75
        }
      ]
    },
    {
      "cell_type": "code",
      "metadata": {
        "id": "3GGm6G1eeWuY",
        "outputId": "b25f41a5-c8f5-4cf1-f49e-c8d92727372b",
        "colab": {
          "base_uri": "https://localhost:8080/",
          "height": 33
        }
      },
      "source": [
        "best_score"
      ],
      "execution_count": null,
      "outputs": [
        {
          "output_type": "execute_result",
          "data": {
            "text/plain": [
              "0.4184008762322015"
            ]
          },
          "metadata": {
            "tags": []
          },
          "execution_count": 76
        }
      ]
    },
    {
      "cell_type": "markdown",
      "metadata": {
        "id": "hLc1PF4x_9sd"
      },
      "source": [
        "# Treinamento RandomForest"
      ]
    },
    {
      "cell_type": "code",
      "metadata": {
        "id": "MqseAWdSjZtl",
        "outputId": "5632631e-66ea-446e-fb29-84a8dad0d943",
        "colab": {
          "base_uri": "https://localhost:8080/",
          "height": 216
        }
      },
      "source": [
        "# Criação e treinamento com Random Forest\n",
        "floresta = RandomForestClassifier(bootstrap=True, criterion='gini', max_depth=None,\n",
        "                                  max_features=26, min_samples_leaf=3, n_estimators=300,\n",
        "                                  random_state=24)\n",
        "floresta.fit(X_train,y_train)"
      ],
      "execution_count": null,
      "outputs": [
        {
          "output_type": "stream",
          "text": [
            "/usr/local/lib/python3.6/dist-packages/ipykernel_launcher.py:5: DataConversionWarning:\n",
            "\n",
            "A column-vector y was passed when a 1d array was expected. Please change the shape of y to (n_samples,), for example using ravel().\n",
            "\n"
          ],
          "name": "stderr"
        },
        {
          "output_type": "execute_result",
          "data": {
            "text/plain": [
              "RandomForestClassifier(bootstrap=True, ccp_alpha=0.0, class_weight=None,\n",
              "                       criterion='gini', max_depth=None, max_features=26,\n",
              "                       max_leaf_nodes=None, max_samples=None,\n",
              "                       min_impurity_decrease=0.0, min_impurity_split=None,\n",
              "                       min_samples_leaf=3, min_samples_split=2,\n",
              "                       min_weight_fraction_leaf=0.0, n_estimators=300,\n",
              "                       n_jobs=None, oob_score=False, random_state=24, verbose=0,\n",
              "                       warm_start=False)"
            ]
          },
          "metadata": {
            "tags": []
          },
          "execution_count": 80
        }
      ]
    },
    {
      "cell_type": "code",
      "metadata": {
        "id": "lFWlUu8Rmwd8",
        "outputId": "74dee15c-d5bc-429b-cbfa-ba94e0373f32",
        "colab": {
          "base_uri": "https://localhost:8080/",
          "height": 282
        }
      },
      "source": [
        "previsao_RF = floresta.predict(X_test)\n",
        "precisao_RF = accuracy_score(y_test, previsao_RF)\n",
        "matriz_confusao_RF = confusion_matrix(y_test, previsao_RF)\n",
        "cr_RF = classification_report(y_test, previsao_RF)\n",
        "print(precisao_RF)\n",
        "print(matriz_confusao_RF)\n",
        "print(cr_RF)"
      ],
      "execution_count": null,
      "outputs": [
        {
          "output_type": "stream",
          "text": [
            "0.3806706114398422\n",
            "[[144  46  41  24]\n",
            " [ 69  59  53  69]\n",
            " [ 41  66  60  81]\n",
            " [ 28  49  61 123]]\n",
            "              precision    recall  f1-score   support\n",
            "\n",
            "           A       0.51      0.56      0.54       255\n",
            "           B       0.27      0.24      0.25       250\n",
            "           C       0.28      0.24      0.26       248\n",
            "           D       0.41      0.47      0.44       261\n",
            "\n",
            "    accuracy                           0.38      1014\n",
            "   macro avg       0.37      0.38      0.37      1014\n",
            "weighted avg       0.37      0.38      0.37      1014\n",
            "\n"
          ],
          "name": "stdout"
        }
      ]
    },
    {
      "cell_type": "code",
      "metadata": {
        "id": "ts9C2ua_sJfr",
        "outputId": "54ffb855-4108-4102-96a6-720057730793",
        "colab": {
          "base_uri": "https://localhost:8080/",
          "height": 295
        }
      },
      "source": [
        "ax= plt.subplot()\n",
        "sns.set(font_scale=1.4) # for label size\n",
        "sns.heatmap(matriz_confusao_RF, annot=True, annot_kws={\"size\": 16}, fmt='g') # font size\n",
        "ax.set_xlabel('Predicted labels'); ax.set_ylabel('True labels')\n",
        "ax.xaxis.set_ticklabels(['A','B','C','D']); ax.yaxis.set_ticklabels(['A','B','C','D'])\n",
        "plt.show()"
      ],
      "execution_count": null,
      "outputs": [
        {
          "output_type": "display_data",
          "data": {
            "image/png": "[encoded data removed]",
            "text/plain": [
              "<Figure size 432x288 with 2 Axes>"
            ]
          },
          "metadata": {
            "tags": []
          }
        }
      ]
    },
    {
      "cell_type": "markdown",
      "metadata": {
        "id": "iZsqL9gHAEUR"
      },
      "source": [
        "# RandomizedSearchCV - SVM"
      ]
    },
    {
      "cell_type": "code",
      "metadata": {
        "id": "iLkXMiH2mc36",
        "outputId": "464018d2-9075-46d6-f86a-68826eeeca00",
        "colab": {
          "base_uri": "https://localhost:8080/",
          "height": 86
        }
      },
      "source": [
        "# Definição da matriz de parâmetros do SVM\n",
        "\n",
        "svm_p_dist={'C':[0.001, 0.01, 0.1, 1, 10, 100, 1000],\n",
        "              'kernel':['rfb', 'linear', 'poly', 'sigmoid'],\n",
        "              'degree':[2, 3, 4],\n",
        "              'gamma':['scale','auto'],\n",
        "              }\n",
        "\n",
        "svm_p_dist"
      ],
      "execution_count": null,
      "outputs": [
        {
          "output_type": "execute_result",
          "data": {
            "text/plain": [
              "{'C': [0.001, 0.01, 0.1, 1, 10, 100, 1000],\n",
              " 'degree': [2, 3, 4],\n",
              " 'gamma': ['scale', 'auto'],\n",
              " 'kernel': ['rfb', 'linear', 'poly', 'sigmoid']}"
            ]
          },
          "metadata": {
            "tags": []
          },
          "execution_count": 131
        }
      ]
    },
    {
      "cell_type": "code",
      "metadata": {
        "id": "9uroF1FXnDiX"
      },
      "source": [
        "# RandomizedSearch do SVM\n",
        "\n",
        "est_SVM = svm.SVC(decision_function_shape='ovo', random_state=24)\n",
        "best_parameters, best_score = hypertuning(est_SVM, svm_p_dist, 100, cv_iter, X, y)"
      ],
      "execution_count": null,
      "outputs": []
    },
    {
      "cell_type": "code",
      "metadata": {
        "id": "QFv68kVQtLjK",
        "outputId": "6685fa97-cba0-4265-ae53-de0a7d1494c3",
        "colab": {
          "base_uri": "https://localhost:8080/",
          "height": 34
        }
      },
      "source": [
        "best_parameters"
      ],
      "execution_count": null,
      "outputs": [
        {
          "output_type": "execute_result",
          "data": {
            "text/plain": [
              "{'C': 100, 'degree': 2, 'gamma': 'scale', 'kernel': 'poly'}"
            ]
          },
          "metadata": {
            "tags": []
          },
          "execution_count": 133
        }
      ]
    },
    {
      "cell_type": "code",
      "metadata": {
        "id": "WgV0j5eLtQSc",
        "outputId": "304a1c57-66e1-41e9-8eb9-519ce3eec89c",
        "colab": {
          "base_uri": "https://localhost:8080/",
          "height": 34
        }
      },
      "source": [
        "best_score"
      ],
      "execution_count": null,
      "outputs": [
        {
          "output_type": "execute_result",
          "data": {
            "text/plain": [
              "0.39978094194961666"
            ]
          },
          "metadata": {
            "tags": []
          },
          "execution_count": 134
        }
      ]
    },
    {
      "cell_type": "markdown",
      "metadata": {
        "id": "IYNDRNb_AIm-"
      },
      "source": [
        "# Treinamento SVM"
      ]
    },
    {
      "cell_type": "code",
      "metadata": {
        "id": "eAPsrM-HSkDI",
        "outputId": "57790855-416b-45b8-89cb-e2a6dcb10479",
        "colab": {
          "base_uri": "https://localhost:8080/",
          "height": 141
        }
      },
      "source": [
        "# Criação e treinamento com SVM\n",
        "svm_clf = svm.SVC(decision_function_shape='ovo', C=100, kernel='poly',\n",
        "                  degree=2, gamma='scale', random_state=24)\n",
        "svm_clf.fit(X_train,y_train)"
      ],
      "execution_count": null,
      "outputs": [
        {
          "output_type": "stream",
          "text": [
            "/usr/local/lib/python3.6/dist-packages/sklearn/utils/validation.py:760: DataConversionWarning: A column-vector y was passed when a 1d array was expected. Please change the shape of y to (n_samples, ), for example using ravel().\n",
            "  y = column_or_1d(y, warn=True)\n"
          ],
          "name": "stderr"
        },
        {
          "output_type": "execute_result",
          "data": {
            "text/plain": [
              "SVC(C=100, break_ties=False, cache_size=200, class_weight=None, coef0=0.0,\n",
              "    decision_function_shape='ovo', degree=2, gamma='scale', kernel='poly',\n",
              "    max_iter=-1, probability=False, random_state=24, shrinking=True, tol=0.001,\n",
              "    verbose=False)"
            ]
          },
          "metadata": {
            "tags": []
          },
          "execution_count": 135
        }
      ]
    },
    {
      "cell_type": "code",
      "metadata": {
        "id": "Qdoli7uAamMp",
        "outputId": "e8ae6c94-7b45-407b-b6dc-eac8b0123734",
        "colab": {
          "base_uri": "https://localhost:8080/",
          "height": 295
        }
      },
      "source": [
        "1'previsao_SVM = svm_clf.predict(X_test)\n",
        "precisao_SVM = accuracy_score(y_test, previsao_SVM)\n",
        "matriz_confusao_SVM = confusion_matrix(y_test, previsao_SVM)\n",
        "cr_SVM = classification_report(y_test, previsao_SVM)\n",
        "print(precisao_SVM)\n",
        "print(matriz_confusao_SVM)\n",
        "print(cr_SVM)"
      ],
      "execution_count": null,
      "outputs": [
        {
          "output_type": "stream",
          "text": [
            "0.3895463510848126\n",
            "[[143  40  30  42]\n",
            " [ 73  70  44  63]\n",
            " [ 50  49  54  95]\n",
            " [ 28  43  62 128]]\n",
            "              precision    recall  f1-score   support\n",
            "\n",
            "           A       0.49      0.56      0.52       255\n",
            "           B       0.35      0.28      0.31       250\n",
            "           C       0.28      0.22      0.25       248\n",
            "           D       0.39      0.49      0.43       261\n",
            "\n",
            "    accuracy                           0.39      1014\n",
            "   macro avg       0.38      0.39      0.38      1014\n",
            "weighted avg       0.38      0.39      0.38      1014\n",
            "\n"
          ],
          "name": "stdout"
        }
      ]
    },
    {
      "cell_type": "code",
      "metadata": {
        "id": "wR7MV3h3jhXF",
        "outputId": "2ac6d81d-7b98-4fc1-8ab7-b43346a22214",
        "colab": {
          "base_uri": "https://localhost:8080/",
          "height": 295
        }
      },
      "source": [
        "ax= plt.subplot()\n",
        "sns.set(font_scale=1.4) # for label size\n",
        "sns.heatmap(matriz_confusao_SVM, annot=True, annot_kws={\"size\": 16}, fmt='g') # font size\n",
        "ax.set_xlabel('Predicted labels'); ax.set_ylabel('True labels')\n",
        "ax.xaxis.set_ticklabels(['A','B','C','D']); ax.yaxis.set_ticklabels(['A','B','C','D'])\n",
        "plt.show()"
      ],
      "execution_count": null,
      "outputs": [
        {
          "output_type": "display_data",
          "data": {
            "image/png": "[encoded data removed]",
            "text/plain": [
              "<Figure size 432x288 with 2 Axes>"
            ]
          },
          "metadata": {
            "tags": []
          }
        }
      ]
    }
  ]
}